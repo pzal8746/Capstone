{
 "cells": [
  {
   "cell_type": "code",
   "execution_count": 1,
   "metadata": {},
   "outputs": [],
   "source": [
    "# import necessary pacakges and define objects for approriate csv files\n",
    "import pandas as pd\n",
    "import numpy as np\n",
    "qbs = 'C:\\\\Users\\\\phili\\\\Downloads\\\\2018QBs.csv'\n",
    "defenses = 'C:\\\\Users\\\\phili\\\\Downloads\\\\2018Plays.csv'"
   ]
  },
  {
   "cell_type": "code",
   "execution_count": 2,
   "metadata": {},
   "outputs": [],
   "source": [
    "# create dataframes for Quarterbacks and defensive formations\n",
    "qb_df =pd.read_csv(qbs)\n",
    "def_df =pd.read_csv(defenses)"
   ]
  },
  {
   "cell_type": "code",
   "execution_count": 3,
   "metadata": {},
   "outputs": [
    {
     "name": "stdout",
     "output_type": "stream",
     "text": [
      "<class 'pandas.core.frame.DataFrame'>\n",
      "RangeIndex: 71 entries, 0 to 70\n",
      "Data columns (total 7 columns):\n",
      " #   Column       Non-Null Count  Dtype \n",
      "---  ------       --------------  ----- \n",
      " 0   nflId        71 non-null     int64 \n",
      " 1   height       71 non-null     object\n",
      " 2   weight       71 non-null     int64 \n",
      " 3   birthDate    71 non-null     object\n",
      " 4   collegeName  71 non-null     object\n",
      " 5   position     71 non-null     object\n",
      " 6   displayName  71 non-null     object\n",
      "dtypes: int64(2), object(5)\n",
      "memory usage: 4.0+ KB\n"
     ]
    }
   ],
   "source": [
    "# review qb df for any null vlaues\n",
    "qb_df.info()"
   ]
  },
  {
   "cell_type": "code",
   "execution_count": 4,
   "metadata": {},
   "outputs": [],
   "source": [
    "# Isolate Patrick Mahomes \n",
    "qb_kc = qb_df[qb_df['displayName'] == 'Patrick Mahomes']"
   ]
  },
  {
   "cell_type": "code",
   "execution_count": 5,
   "metadata": {},
   "outputs": [
    {
     "name": "stdout",
     "output_type": "stream",
     "text": [
      "<class 'pandas.core.frame.DataFrame'>\n",
      "RangeIndex: 19239 entries, 0 to 19238\n",
      "Data columns (total 27 columns):\n",
      " #   Column                  Non-Null Count  Dtype  \n",
      "---  ------                  --------------  -----  \n",
      " 0   gameId                  19239 non-null  int64  \n",
      " 1   playId                  19239 non-null  int64  \n",
      " 2   playDescription         19239 non-null  object \n",
      " 3   quarter                 19239 non-null  int64  \n",
      " 4   down                    19239 non-null  int64  \n",
      " 5   yardsToGo               19239 non-null  int64  \n",
      " 6   possessionTeam          19239 non-null  object \n",
      " 7   playType                19239 non-null  object \n",
      " 8   yardlineSide            18985 non-null  object \n",
      " 9   yardlineNumber          19239 non-null  int64  \n",
      " 10  offenseFormation        19098 non-null  object \n",
      " 11  personnelO              19210 non-null  object \n",
      " 12  defendersInTheBox       19177 non-null  float64\n",
      " 13  numberOfPassRushers     18606 non-null  float64\n",
      " 14  personnelD              19210 non-null  object \n",
      " 15  typeDropback            18600 non-null  object \n",
      " 16  preSnapVisitorScore     18600 non-null  float64\n",
      " 17  preSnapHomeScore        18600 non-null  float64\n",
      " 18  gameClock               18600 non-null  object \n",
      " 19  absoluteYardlineNumber  18600 non-null  float64\n",
      " 20  penaltyCodes            1206 non-null   object \n",
      " 21  penaltyJerseyNumbers    1206 non-null   object \n",
      " 22  passResult              19237 non-null  object \n",
      " 23  offensePlayResult       19239 non-null  int64  \n",
      " 24  playResult              19239 non-null  int64  \n",
      " 25  epa                     19239 non-null  float64\n",
      " 26  isDefensivePI           19239 non-null  bool   \n",
      "dtypes: bool(1), float64(6), int64(8), object(12)\n",
      "memory usage: 3.8+ MB\n"
     ]
    }
   ],
   "source": [
    "# review def df for any null values\n",
    "def_df.info()"
   ]
  },
  {
   "cell_type": "code",
   "execution_count": 6,
   "metadata": {},
   "outputs": [],
   "source": [
    "# subset def df to remove columns that won't be needed for analysis and drop null values\n",
    "def_df = def_df[['gameId', 'playId', 'playDescription',  'down', 'yardsToGo',\n",
    "       'possessionTeam', 'playType',  \n",
    "       'offenseFormation', 'personnelO', 'defendersInTheBox',\n",
    "       'numberOfPassRushers', 'personnelD', 'typeDropback',\n",
    "       'preSnapVisitorScore', 'preSnapHomeScore', \n",
    "       'passResult', 'offensePlayResult', 'playResult', 'epa','isDefensivePI']].dropna()"
   ]
  },
  {
   "cell_type": "code",
   "execution_count": 7,
   "metadata": {},
   "outputs": [
    {
     "data": {
      "text/html": [
       "<div>\n",
       "<style scoped>\n",
       "    .dataframe tbody tr th:only-of-type {\n",
       "        vertical-align: middle;\n",
       "    }\n",
       "\n",
       "    .dataframe tbody tr th {\n",
       "        vertical-align: top;\n",
       "    }\n",
       "\n",
       "    .dataframe thead th {\n",
       "        text-align: right;\n",
       "    }\n",
       "</style>\n",
       "<table border=\"1\" class=\"dataframe\">\n",
       "  <thead>\n",
       "    <tr style=\"text-align: right;\">\n",
       "      <th></th>\n",
       "      <th>gameId</th>\n",
       "      <th>playId</th>\n",
       "      <th>playDescription</th>\n",
       "      <th>down</th>\n",
       "      <th>yardsToGo</th>\n",
       "      <th>possessionTeam</th>\n",
       "      <th>playType</th>\n",
       "      <th>offenseFormation</th>\n",
       "      <th>personnelO</th>\n",
       "      <th>defendersInTheBox</th>\n",
       "      <th>numberOfPassRushers</th>\n",
       "      <th>personnelD</th>\n",
       "      <th>typeDropback</th>\n",
       "      <th>preSnapVisitorScore</th>\n",
       "      <th>preSnapHomeScore</th>\n",
       "      <th>passResult</th>\n",
       "      <th>offensePlayResult</th>\n",
       "      <th>playResult</th>\n",
       "      <th>epa</th>\n",
       "      <th>isDefensivePI</th>\n",
       "    </tr>\n",
       "  </thead>\n",
       "  <tbody>\n",
       "    <tr>\n",
       "      <th>0</th>\n",
       "      <td>2018090600</td>\n",
       "      <td>75</td>\n",
       "      <td>(15:00) M.Ryan pass short right to J.Jones pus...</td>\n",
       "      <td>1</td>\n",
       "      <td>15</td>\n",
       "      <td>ATL</td>\n",
       "      <td>play_type_pass</td>\n",
       "      <td>I_FORM</td>\n",
       "      <td>2 RB, 1 TE, 2 WR</td>\n",
       "      <td>7.0</td>\n",
       "      <td>4.0</td>\n",
       "      <td>4 DL, 2 LB, 5 DB</td>\n",
       "      <td>TRADITIONAL</td>\n",
       "      <td>0.0</td>\n",
       "      <td>0.0</td>\n",
       "      <td>C</td>\n",
       "      <td>10</td>\n",
       "      <td>10</td>\n",
       "      <td>0.261827</td>\n",
       "      <td>False</td>\n",
       "    </tr>\n",
       "    <tr>\n",
       "      <th>1</th>\n",
       "      <td>2018090600</td>\n",
       "      <td>146</td>\n",
       "      <td>(13:10) M.Ryan pass incomplete short right to ...</td>\n",
       "      <td>1</td>\n",
       "      <td>10</td>\n",
       "      <td>ATL</td>\n",
       "      <td>play_type_pass</td>\n",
       "      <td>SINGLEBACK</td>\n",
       "      <td>1 RB, 1 TE, 3 WR</td>\n",
       "      <td>7.0</td>\n",
       "      <td>4.0</td>\n",
       "      <td>4 DL, 2 LB, 5 DB</td>\n",
       "      <td>TRADITIONAL</td>\n",
       "      <td>0.0</td>\n",
       "      <td>0.0</td>\n",
       "      <td>I</td>\n",
       "      <td>0</td>\n",
       "      <td>0</td>\n",
       "      <td>-0.372360</td>\n",
       "      <td>False</td>\n",
       "    </tr>\n",
       "    <tr>\n",
       "      <th>2</th>\n",
       "      <td>2018090600</td>\n",
       "      <td>168</td>\n",
       "      <td>(13:05) (Shotgun) M.Ryan pass incomplete short...</td>\n",
       "      <td>2</td>\n",
       "      <td>10</td>\n",
       "      <td>ATL</td>\n",
       "      <td>play_type_pass</td>\n",
       "      <td>SHOTGUN</td>\n",
       "      <td>2 RB, 1 TE, 2 WR</td>\n",
       "      <td>6.0</td>\n",
       "      <td>4.0</td>\n",
       "      <td>4 DL, 2 LB, 5 DB</td>\n",
       "      <td>TRADITIONAL</td>\n",
       "      <td>0.0</td>\n",
       "      <td>0.0</td>\n",
       "      <td>I</td>\n",
       "      <td>0</td>\n",
       "      <td>0</td>\n",
       "      <td>-0.702779</td>\n",
       "      <td>False</td>\n",
       "    </tr>\n",
       "  </tbody>\n",
       "</table>\n",
       "</div>"
      ],
      "text/plain": [
       "       gameId  playId                                    playDescription  \\\n",
       "0  2018090600      75  (15:00) M.Ryan pass short right to J.Jones pus...   \n",
       "1  2018090600     146  (13:10) M.Ryan pass incomplete short right to ...   \n",
       "2  2018090600     168  (13:05) (Shotgun) M.Ryan pass incomplete short...   \n",
       "\n",
       "   down  yardsToGo possessionTeam        playType offenseFormation  \\\n",
       "0     1         15            ATL  play_type_pass           I_FORM   \n",
       "1     1         10            ATL  play_type_pass       SINGLEBACK   \n",
       "2     2         10            ATL  play_type_pass          SHOTGUN   \n",
       "\n",
       "         personnelO  defendersInTheBox  numberOfPassRushers        personnelD  \\\n",
       "0  2 RB, 1 TE, 2 WR                7.0                  4.0  4 DL, 2 LB, 5 DB   \n",
       "1  1 RB, 1 TE, 3 WR                7.0                  4.0  4 DL, 2 LB, 5 DB   \n",
       "2  2 RB, 1 TE, 2 WR                6.0                  4.0  4 DL, 2 LB, 5 DB   \n",
       "\n",
       "  typeDropback  preSnapVisitorScore  preSnapHomeScore passResult  \\\n",
       "0  TRADITIONAL                  0.0               0.0          C   \n",
       "1  TRADITIONAL                  0.0               0.0          I   \n",
       "2  TRADITIONAL                  0.0               0.0          I   \n",
       "\n",
       "   offensePlayResult  playResult       epa  isDefensivePI  \n",
       "0                 10          10  0.261827          False  \n",
       "1                  0           0 -0.372360          False  \n",
       "2                  0           0 -0.702779          False  "
      ]
     },
     "execution_count": 7,
     "metadata": {},
     "output_type": "execute_result"
    }
   ],
   "source": [
    "def_df.head(3)"
   ]
  },
  {
   "cell_type": "code",
   "execution_count": 8,
   "metadata": {},
   "outputs": [
    {
     "data": {
      "text/plain": [
       "False    18484\n",
       "True        22\n",
       "Name: isDefensivePI, dtype: int64"
      ]
     },
     "execution_count": 8,
     "metadata": {},
     "output_type": "execute_result"
    }
   ],
   "source": [
    "# Review Def PI column for number of times pass interfernce occurred\n",
    "def_df['isDefensivePI'].value_counts()"
   ]
  },
  {
   "cell_type": "code",
   "execution_count": 9,
   "metadata": {},
   "outputs": [],
   "source": [
    "# Only 22 Defensive Pass Interferences occurred in 18506 plays, remove this column from data to be analyzed\n",
    "def_df = def_df[~def_df['isDefensivePI']]"
   ]
  },
  {
   "cell_type": "code",
   "execution_count": 10,
   "metadata": {},
   "outputs": [
    {
     "name": "stdout",
     "output_type": "stream",
     "text": [
      "<class 'pandas.core.frame.DataFrame'>\n",
      "Int64Index: 578 entries, 1475 to 17679\n",
      "Data columns (total 20 columns):\n",
      " #   Column               Non-Null Count  Dtype  \n",
      "---  ------               --------------  -----  \n",
      " 0   gameId               578 non-null    int64  \n",
      " 1   playId               578 non-null    int64  \n",
      " 2   playDescription      578 non-null    object \n",
      " 3   down                 578 non-null    int64  \n",
      " 4   yardsToGo            578 non-null    int64  \n",
      " 5   possessionTeam       578 non-null    object \n",
      " 6   playType             578 non-null    object \n",
      " 7   offenseFormation     578 non-null    object \n",
      " 8   personnelO           578 non-null    object \n",
      " 9   defendersInTheBox    578 non-null    float64\n",
      " 10  numberOfPassRushers  578 non-null    float64\n",
      " 11  personnelD           578 non-null    object \n",
      " 12  typeDropback         578 non-null    object \n",
      " 13  preSnapVisitorScore  578 non-null    float64\n",
      " 14  preSnapHomeScore     578 non-null    float64\n",
      " 15  passResult           578 non-null    object \n",
      " 16  offensePlayResult    578 non-null    int64  \n",
      " 17  playResult           578 non-null    int64  \n",
      " 18  epa                  578 non-null    float64\n",
      " 19  isDefensivePI        578 non-null    bool   \n",
      "dtypes: bool(1), float64(5), int64(6), object(8)\n",
      "memory usage: 90.9+ KB\n"
     ]
    }
   ],
   "source": [
    "# Isolate defenses played against the Kansas City Chiefs \n",
    "def_vs_kc = def_df[def_df['possessionTeam'] == 'KC']\n",
    "def_vs_kc.info()"
   ]
  },
  {
   "cell_type": "code",
   "execution_count": 11,
   "metadata": {},
   "outputs": [
    {
     "name": "stdout",
     "output_type": "stream",
     "text": [
      "<class 'pandas.core.frame.DataFrame'>\n",
      "Int64Index: 17906 entries, 0 to 18605\n",
      "Data columns (total 20 columns):\n",
      " #   Column               Non-Null Count  Dtype  \n",
      "---  ------               --------------  -----  \n",
      " 0   gameId               17906 non-null  int64  \n",
      " 1   playId               17906 non-null  int64  \n",
      " 2   playDescription      17906 non-null  object \n",
      " 3   down                 17906 non-null  int64  \n",
      " 4   yardsToGo            17906 non-null  int64  \n",
      " 5   possessionTeam       17906 non-null  object \n",
      " 6   playType             17906 non-null  object \n",
      " 7   offenseFormation     17906 non-null  object \n",
      " 8   personnelO           17906 non-null  object \n",
      " 9   defendersInTheBox    17906 non-null  float64\n",
      " 10  numberOfPassRushers  17906 non-null  float64\n",
      " 11  personnelD           17906 non-null  object \n",
      " 12  typeDropback         17906 non-null  object \n",
      " 13  preSnapVisitorScore  17906 non-null  float64\n",
      " 14  preSnapHomeScore     17906 non-null  float64\n",
      " 15  passResult           17906 non-null  object \n",
      " 16  offensePlayResult    17906 non-null  int64  \n",
      " 17  playResult           17906 non-null  int64  \n",
      " 18  epa                  17906 non-null  float64\n",
      " 19  isDefensivePI        17906 non-null  bool   \n",
      "dtypes: bool(1), float64(5), int64(6), object(8)\n",
      "memory usage: 2.7+ MB\n"
     ]
    }
   ],
   "source": [
    "# defense played by KC vs the NFL\n",
    "def_rest_nfl = def_df[def_df['possessionTeam'] != 'KC']\n",
    "def_rest_nfl.info()"
   ]
  },
  {
   "cell_type": "code",
   "execution_count": 12,
   "metadata": {},
   "outputs": [
    {
     "data": {
      "text/plain": [
       "0.3096555206159169"
      ]
     },
     "execution_count": 12,
     "metadata": {},
     "output_type": "execute_result"
    }
   ],
   "source": [
    "#epa as defined from the NFL Big Data Bowl at Kaggle.com: Expected points added on the play, relative to the offensive team. \n",
    "#Expected points is a metric that estimates the average of every next scoring outcome given the play's down, \n",
    "#distance, yardline, and time remaining (numeric)\n",
    "# average epa for for Kansas City\n",
    "def_vs_kc['epa'].mean()"
   ]
  },
  {
   "cell_type": "code",
   "execution_count": 13,
   "metadata": {},
   "outputs": [
    {
     "data": {
      "text/plain": [
       "-0.02270545273210106"
      ]
     },
     "execution_count": 13,
     "metadata": {},
     "output_type": "execute_result"
    }
   ],
   "source": [
    "# average epa for the rest of the NFL\n",
    "def_rest_nfl['epa'].mean()"
   ]
  },
  {
   "cell_type": "markdown",
   "metadata": {},
   "source": [
    "By isolating the Kansas City Chiefs from the rest of the NFL, the Chiefs on average are projected to score at a rate nearly 13 times the rest of the league.  Now to determine what the best course of action is to limit their success by focusing on their quarteback Patrick Mahomes."
   ]
  },
  {
   "cell_type": "code",
   "execution_count": null,
   "metadata": {},
   "outputs": [],
   "source": []
  }
 ],
 "metadata": {
  "kernelspec": {
   "display_name": "Python 3",
   "language": "python",
   "name": "python3"
  },
  "language_info": {
   "codemirror_mode": {
    "name": "ipython",
    "version": 3
   },
   "file_extension": ".py",
   "mimetype": "text/x-python",
   "name": "python",
   "nbconvert_exporter": "python",
   "pygments_lexer": "ipython3",
   "version": "3.8.3"
  }
 },
 "nbformat": 4,
 "nbformat_minor": 4
}
