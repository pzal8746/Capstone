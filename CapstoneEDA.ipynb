{
 "cells": [
  {
   "cell_type": "code",
   "execution_count": 1,
   "metadata": {},
   "outputs": [],
   "source": [
    "# Import libraries\n",
    "import pandas as pd\n",
    "import numpy as np\n",
    "import os\n",
    "import matplotlib.pyplot as plt\n",
    "import seaborn as sns\n",
    "from sklearn.decomposition import PCA\n",
    "from sklearn.preprocessing import scale\n",
    "import csv "
   ]
  },
  {
   "cell_type": "code",
   "execution_count": 2,
   "metadata": {},
   "outputs": [],
   "source": [
    "# Reference csv files to analyze\n",
    "qbs = 'C:\\\\Users\\\\phili\\\\Downloads\\\\2018QBs.csv'\n",
    "plays = 'C:\\\\Users\\\\phili\\\\Downloads\\\\2018Plays.csv'"
   ]
  },
  {
   "cell_type": "code",
   "execution_count": 3,
   "metadata": {},
   "outputs": [],
   "source": [
    "# create dataframes for Quarterbacks and defensive formations\n",
    "qb_df =pd.read_csv(qbs)\n",
    "plays_df =pd.read_csv(plays)"
   ]
  },
  {
   "cell_type": "code",
   "execution_count": 4,
   "metadata": {},
   "outputs": [
    {
     "name": "stdout",
     "output_type": "stream",
     "text": [
      "<class 'pandas.core.frame.DataFrame'>\n",
      "RangeIndex: 71 entries, 0 to 70\n",
      "Data columns (total 7 columns):\n",
      " #   Column       Non-Null Count  Dtype \n",
      "---  ------       --------------  ----- \n",
      " 0   nflId        71 non-null     int64 \n",
      " 1   height       71 non-null     object\n",
      " 2   weight       71 non-null     int64 \n",
      " 3   birthDate    71 non-null     object\n",
      " 4   collegeName  71 non-null     object\n",
      " 5   position     71 non-null     object\n",
      " 6   displayName  71 non-null     object\n",
      "dtypes: int64(2), object(5)\n",
      "memory usage: 4.0+ KB\n"
     ]
    }
   ],
   "source": [
    "# review qb df for any null vlaues\n",
    "qb_df.info()"
   ]
  },
  {
   "cell_type": "code",
   "execution_count": 5,
   "metadata": {},
   "outputs": [
    {
     "data": {
      "text/html": [
       "<div>\n",
       "<style scoped>\n",
       "    .dataframe tbody tr th:only-of-type {\n",
       "        vertical-align: middle;\n",
       "    }\n",
       "\n",
       "    .dataframe tbody tr th {\n",
       "        vertical-align: top;\n",
       "    }\n",
       "\n",
       "    .dataframe thead th {\n",
       "        text-align: right;\n",
       "    }\n",
       "</style>\n",
       "<table border=\"1\" class=\"dataframe\">\n",
       "  <thead>\n",
       "    <tr style=\"text-align: right;\">\n",
       "      <th></th>\n",
       "      <th>nflId</th>\n",
       "      <th>height</th>\n",
       "      <th>weight</th>\n",
       "      <th>birthDate</th>\n",
       "      <th>collegeName</th>\n",
       "      <th>position</th>\n",
       "      <th>displayName</th>\n",
       "    </tr>\n",
       "  </thead>\n",
       "  <tbody>\n",
       "    <tr>\n",
       "      <th>0</th>\n",
       "      <td>2532842</td>\n",
       "      <td>78</td>\n",
       "      <td>243</td>\n",
       "      <td>1/20/1989</td>\n",
       "      <td>Arizona</td>\n",
       "      <td>QB</td>\n",
       "      <td>Nick Foles</td>\n",
       "    </tr>\n",
       "    <tr>\n",
       "      <th>1</th>\n",
       "      <td>310</td>\n",
       "      <td>76</td>\n",
       "      <td>217</td>\n",
       "      <td>5/17/1985</td>\n",
       "      <td>Boston College</td>\n",
       "      <td>QB</td>\n",
       "      <td>Matt Ryan</td>\n",
       "    </tr>\n",
       "    <tr>\n",
       "      <th>2</th>\n",
       "      <td>2558191</td>\n",
       "      <td>74</td>\n",
       "      <td>225</td>\n",
       "      <td>5/4/1994</td>\n",
       "      <td>Pittsburgh</td>\n",
       "      <td>QB</td>\n",
       "      <td>Nathan Peterman</td>\n",
       "    </tr>\n",
       "  </tbody>\n",
       "</table>\n",
       "</div>"
      ],
      "text/plain": [
       "     nflId height  weight  birthDate     collegeName position      displayName\n",
       "0  2532842     78     243  1/20/1989         Arizona       QB       Nick Foles\n",
       "1      310     76     217  5/17/1985  Boston College       QB        Matt Ryan\n",
       "2  2558191     74     225   5/4/1994      Pittsburgh       QB  Nathan Peterman"
      ]
     },
     "execution_count": 5,
     "metadata": {},
     "output_type": "execute_result"
    }
   ],
   "source": [
    "# View first 3 entries of the qb dataframe\n",
    "qb_df.head(3)"
   ]
  },
  {
   "cell_type": "code",
   "execution_count": 6,
   "metadata": {},
   "outputs": [],
   "source": [
    "# Isolate Patrick Mahomes as he will be the focus of the capstone\n",
    "qb_kc = qb_df[qb_df['displayName'] == 'Patrick Mahomes']"
   ]
  },
  {
   "cell_type": "code",
   "execution_count": 7,
   "metadata": {},
   "outputs": [
    {
     "name": "stdout",
     "output_type": "stream",
     "text": [
      "<class 'pandas.core.frame.DataFrame'>\n",
      "RangeIndex: 19239 entries, 0 to 19238\n",
      "Data columns (total 27 columns):\n",
      " #   Column                  Non-Null Count  Dtype  \n",
      "---  ------                  --------------  -----  \n",
      " 0   gameId                  19239 non-null  int64  \n",
      " 1   playId                  19239 non-null  int64  \n",
      " 2   playDescription         19239 non-null  object \n",
      " 3   quarter                 19239 non-null  int64  \n",
      " 4   down                    19239 non-null  int64  \n",
      " 5   yardsToGo               19239 non-null  int64  \n",
      " 6   possessionTeam          19239 non-null  object \n",
      " 7   playType                19239 non-null  object \n",
      " 8   yardlineSide            18985 non-null  object \n",
      " 9   yardlineNumber          19239 non-null  int64  \n",
      " 10  offenseFormation        19098 non-null  object \n",
      " 11  personnelO              19210 non-null  object \n",
      " 12  defendersInTheBox       19177 non-null  float64\n",
      " 13  numberOfPassRushers     18606 non-null  float64\n",
      " 14  personnelD              19210 non-null  object \n",
      " 15  typeDropback            18600 non-null  object \n",
      " 16  preSnapVisitorScore     18600 non-null  float64\n",
      " 17  preSnapHomeScore        18600 non-null  float64\n",
      " 18  gameClock               18600 non-null  object \n",
      " 19  absoluteYardlineNumber  18600 non-null  float64\n",
      " 20  penaltyCodes            1206 non-null   object \n",
      " 21  penaltyJerseyNumbers    1206 non-null   object \n",
      " 22  passResult              19237 non-null  object \n",
      " 23  offensePlayResult       19239 non-null  int64  \n",
      " 24  playResult              19239 non-null  int64  \n",
      " 25  epa                     19239 non-null  float64\n",
      " 26  isDefensivePI           19239 non-null  bool   \n",
      "dtypes: bool(1), float64(6), int64(8), object(12)\n",
      "memory usage: 3.8+ MB\n"
     ]
    }
   ],
   "source": [
    "# review plays df for any null values\n",
    "plays_df.info()"
   ]
  },
  {
   "cell_type": "code",
   "execution_count": 8,
   "metadata": {},
   "outputs": [
    {
     "data": {
      "text/plain": [
       "False    18980\n",
       "True       259\n",
       "Name: isDefensivePI, dtype: int64"
      ]
     },
     "execution_count": 8,
     "metadata": {},
     "output_type": "execute_result"
    }
   ],
   "source": [
    "# # Review Def PI column for number of times pass interfernce occurred\n",
    "plays_df['isDefensivePI'].value_counts()"
   ]
  },
  {
   "cell_type": "markdown",
   "metadata": {},
   "source": [
    "Pass Interference occurred on .001 percent of plays, this column is negligible due to its lack of generating in impact on the datas."
   ]
  },
  {
   "cell_type": "code",
   "execution_count": 9,
   "metadata": {},
   "outputs": [],
   "source": [
    "# penaltyJerseyNumbers and penaltyCodes have data on less than 10% of the plays, remove these columns\n",
    "plays_df.drop(columns= ['penaltyJerseyNumbers', 'penaltyCodes','isDefensivePI'], inplace= True)"
   ]
  },
  {
   "cell_type": "code",
   "execution_count": 10,
   "metadata": {},
   "outputs": [
    {
     "data": {
      "text/html": [
       "<div>\n",
       "<style scoped>\n",
       "    .dataframe tbody tr th:only-of-type {\n",
       "        vertical-align: middle;\n",
       "    }\n",
       "\n",
       "    .dataframe tbody tr th {\n",
       "        vertical-align: top;\n",
       "    }\n",
       "\n",
       "    .dataframe thead th {\n",
       "        text-align: right;\n",
       "    }\n",
       "</style>\n",
       "<table border=\"1\" class=\"dataframe\">\n",
       "  <thead>\n",
       "    <tr style=\"text-align: right;\">\n",
       "      <th></th>\n",
       "      <th>passResult</th>\n",
       "      <th>yardlineSide</th>\n",
       "      <th>offenseFormation</th>\n",
       "      <th>personnelO</th>\n",
       "      <th>defendersInTheBox</th>\n",
       "      <th>numberOfPassRushers</th>\n",
       "      <th>personnelD</th>\n",
       "      <th>typeDropback</th>\n",
       "    </tr>\n",
       "  </thead>\n",
       "  <tbody>\n",
       "    <tr>\n",
       "      <th>0</th>\n",
       "      <td>C</td>\n",
       "      <td>ATL</td>\n",
       "      <td>I_FORM</td>\n",
       "      <td>2 RB, 1 TE, 2 WR</td>\n",
       "      <td>7.0</td>\n",
       "      <td>4.0</td>\n",
       "      <td>4 DL, 2 LB, 5 DB</td>\n",
       "      <td>TRADITIONAL</td>\n",
       "    </tr>\n",
       "    <tr>\n",
       "      <th>1</th>\n",
       "      <td>I</td>\n",
       "      <td>PHI</td>\n",
       "      <td>SINGLEBACK</td>\n",
       "      <td>1 RB, 1 TE, 3 WR</td>\n",
       "      <td>7.0</td>\n",
       "      <td>4.0</td>\n",
       "      <td>4 DL, 2 LB, 5 DB</td>\n",
       "      <td>TRADITIONAL</td>\n",
       "    </tr>\n",
       "    <tr>\n",
       "      <th>2</th>\n",
       "      <td>I</td>\n",
       "      <td>PHI</td>\n",
       "      <td>SHOTGUN</td>\n",
       "      <td>2 RB, 1 TE, 2 WR</td>\n",
       "      <td>6.0</td>\n",
       "      <td>4.0</td>\n",
       "      <td>4 DL, 2 LB, 5 DB</td>\n",
       "      <td>TRADITIONAL</td>\n",
       "    </tr>\n",
       "    <tr>\n",
       "      <th>3</th>\n",
       "      <td>C</td>\n",
       "      <td>PHI</td>\n",
       "      <td>SHOTGUN</td>\n",
       "      <td>1 RB, 1 TE, 3 WR</td>\n",
       "      <td>6.0</td>\n",
       "      <td>5.0</td>\n",
       "      <td>4 DL, 1 LB, 6 DB</td>\n",
       "      <td>SCRAMBLE_ROLLOUT_LEFT</td>\n",
       "    </tr>\n",
       "    <tr>\n",
       "      <th>4</th>\n",
       "      <td>I</td>\n",
       "      <td>PHI</td>\n",
       "      <td>SHOTGUN</td>\n",
       "      <td>2 RB, 3 TE, 0 WR</td>\n",
       "      <td>8.0</td>\n",
       "      <td>6.0</td>\n",
       "      <td>6 DL, 3 LB, 2 DB</td>\n",
       "      <td>TRADITIONAL</td>\n",
       "    </tr>\n",
       "  </tbody>\n",
       "</table>\n",
       "</div>"
      ],
      "text/plain": [
       "  passResult yardlineSide offenseFormation        personnelO  \\\n",
       "0          C          ATL           I_FORM  2 RB, 1 TE, 2 WR   \n",
       "1          I          PHI       SINGLEBACK  1 RB, 1 TE, 3 WR   \n",
       "2          I          PHI          SHOTGUN  2 RB, 1 TE, 2 WR   \n",
       "3          C          PHI          SHOTGUN  1 RB, 1 TE, 3 WR   \n",
       "4          I          PHI          SHOTGUN  2 RB, 3 TE, 0 WR   \n",
       "\n",
       "   defendersInTheBox  numberOfPassRushers        personnelD  \\\n",
       "0                7.0                  4.0  4 DL, 2 LB, 5 DB   \n",
       "1                7.0                  4.0  4 DL, 2 LB, 5 DB   \n",
       "2                6.0                  4.0  4 DL, 2 LB, 5 DB   \n",
       "3                6.0                  5.0  4 DL, 1 LB, 6 DB   \n",
       "4                8.0                  6.0  6 DL, 3 LB, 2 DB   \n",
       "\n",
       "            typeDropback  \n",
       "0            TRADITIONAL  \n",
       "1            TRADITIONAL  \n",
       "2            TRADITIONAL  \n",
       "3  SCRAMBLE_ROLLOUT_LEFT  \n",
       "4            TRADITIONAL  "
      ]
     },
     "execution_count": 10,
     "metadata": {},
     "output_type": "execute_result"
    }
   ],
   "source": [
    "# create a subset of the columns containing null values and inspect their impact on the data\n",
    "plays_1 = plays_df[['passResult',  \"yardlineSide\", \"offenseFormation\", \"personnelO\", \"defendersInTheBox\", \n",
    "                   \"numberOfPassRushers\", \"personnelD\", \"typeDropback\"]]\n",
    "plays_1.head()"
   ]
  },
  {
   "cell_type": "code",
   "execution_count": 11,
   "metadata": {},
   "outputs": [
    {
     "data": {
      "text/html": [
       "<div>\n",
       "<style scoped>\n",
       "    .dataframe tbody tr th:only-of-type {\n",
       "        vertical-align: middle;\n",
       "    }\n",
       "\n",
       "    .dataframe tbody tr th {\n",
       "        vertical-align: top;\n",
       "    }\n",
       "\n",
       "    .dataframe thead th {\n",
       "        text-align: right;\n",
       "    }\n",
       "</style>\n",
       "<table border=\"1\" class=\"dataframe\">\n",
       "  <thead>\n",
       "    <tr style=\"text-align: right;\">\n",
       "      <th></th>\n",
       "      <th>passResult</th>\n",
       "      <th>yardlineSide</th>\n",
       "      <th>offenseFormation</th>\n",
       "      <th>personnelO</th>\n",
       "      <th>defendersInTheBox</th>\n",
       "      <th>numberOfPassRushers</th>\n",
       "      <th>personnelD</th>\n",
       "      <th>typeDropback</th>\n",
       "    </tr>\n",
       "  </thead>\n",
       "  <tbody>\n",
       "    <tr>\n",
       "      <th>18777</th>\n",
       "      <td>NaN</td>\n",
       "      <td>DEN</td>\n",
       "      <td>SINGLEBACK</td>\n",
       "      <td>2 RB, 2 TE, 1 WR</td>\n",
       "      <td>7.0</td>\n",
       "      <td>NaN</td>\n",
       "      <td>4 DL, 3 LB, 4 DB</td>\n",
       "      <td>NaN</td>\n",
       "    </tr>\n",
       "    <tr>\n",
       "      <th>18855</th>\n",
       "      <td>NaN</td>\n",
       "      <td>CLE</td>\n",
       "      <td>PISTOL</td>\n",
       "      <td>1 RB, 1 TE, 3 WR</td>\n",
       "      <td>6.0</td>\n",
       "      <td>NaN</td>\n",
       "      <td>4 DL, 2 LB, 5 DB</td>\n",
       "      <td>NaN</td>\n",
       "    </tr>\n",
       "  </tbody>\n",
       "</table>\n",
       "</div>"
      ],
      "text/plain": [
       "      passResult yardlineSide offenseFormation        personnelO  \\\n",
       "18777        NaN          DEN       SINGLEBACK  2 RB, 2 TE, 1 WR   \n",
       "18855        NaN          CLE           PISTOL  1 RB, 1 TE, 3 WR   \n",
       "\n",
       "       defendersInTheBox  numberOfPassRushers        personnelD typeDropback  \n",
       "18777                7.0                  NaN  4 DL, 3 LB, 4 DB          NaN  \n",
       "18855                6.0                  NaN  4 DL, 2 LB, 5 DB          NaN  "
      ]
     },
     "execution_count": 11,
     "metadata": {},
     "output_type": "execute_result"
    }
   ],
   "source": [
    "# Observe the two results will null values from the pass result category, \n",
    "# we will drop these 2 observations due to multiple pieces of missing information\n",
    "plays_1[plays_1['passResult'].isnull()  == True]"
   ]
  },
  {
   "cell_type": "code",
   "execution_count": 12,
   "metadata": {},
   "outputs": [
    {
     "data": {
      "text/html": [
       "<div>\n",
       "<style scoped>\n",
       "    .dataframe tbody tr th:only-of-type {\n",
       "        vertical-align: middle;\n",
       "    }\n",
       "\n",
       "    .dataframe tbody tr th {\n",
       "        vertical-align: top;\n",
       "    }\n",
       "\n",
       "    .dataframe thead th {\n",
       "        text-align: right;\n",
       "    }\n",
       "</style>\n",
       "<table border=\"1\" class=\"dataframe\">\n",
       "  <thead>\n",
       "    <tr style=\"text-align: right;\">\n",
       "      <th></th>\n",
       "      <th>numberOfPassRushers</th>\n",
       "      <th>defendersInTheBox</th>\n",
       "    </tr>\n",
       "  </thead>\n",
       "  <tbody>\n",
       "    <tr>\n",
       "      <th>0</th>\n",
       "      <td>4.0</td>\n",
       "      <td>7.0</td>\n",
       "    </tr>\n",
       "    <tr>\n",
       "      <th>1</th>\n",
       "      <td>4.0</td>\n",
       "      <td>7.0</td>\n",
       "    </tr>\n",
       "    <tr>\n",
       "      <th>2</th>\n",
       "      <td>4.0</td>\n",
       "      <td>6.0</td>\n",
       "    </tr>\n",
       "    <tr>\n",
       "      <th>3</th>\n",
       "      <td>5.0</td>\n",
       "      <td>6.0</td>\n",
       "    </tr>\n",
       "    <tr>\n",
       "      <th>4</th>\n",
       "      <td>6.0</td>\n",
       "      <td>8.0</td>\n",
       "    </tr>\n",
       "    <tr>\n",
       "      <th>...</th>\n",
       "      <td>...</td>\n",
       "      <td>...</td>\n",
       "    </tr>\n",
       "    <tr>\n",
       "      <th>19234</th>\n",
       "      <td>4.0</td>\n",
       "      <td>7.0</td>\n",
       "    </tr>\n",
       "    <tr>\n",
       "      <th>19235</th>\n",
       "      <td>4.0</td>\n",
       "      <td>6.0</td>\n",
       "    </tr>\n",
       "    <tr>\n",
       "      <th>19236</th>\n",
       "      <td>4.0</td>\n",
       "      <td>6.0</td>\n",
       "    </tr>\n",
       "    <tr>\n",
       "      <th>19237</th>\n",
       "      <td>4.0</td>\n",
       "      <td>7.0</td>\n",
       "    </tr>\n",
       "    <tr>\n",
       "      <th>19238</th>\n",
       "      <td>4.0</td>\n",
       "      <td>6.0</td>\n",
       "    </tr>\n",
       "  </tbody>\n",
       "</table>\n",
       "<p>19239 rows × 2 columns</p>\n",
       "</div>"
      ],
      "text/plain": [
       "       numberOfPassRushers  defendersInTheBox\n",
       "0                      4.0                7.0\n",
       "1                      4.0                7.0\n",
       "2                      4.0                6.0\n",
       "3                      5.0                6.0\n",
       "4                      6.0                8.0\n",
       "...                    ...                ...\n",
       "19234                  4.0                7.0\n",
       "19235                  4.0                6.0\n",
       "19236                  4.0                6.0\n",
       "19237                  4.0                7.0\n",
       "19238                  4.0                6.0\n",
       "\n",
       "[19239 rows x 2 columns]"
      ]
     },
     "execution_count": 12,
     "metadata": {},
     "output_type": "execute_result"
    }
   ],
   "source": [
    "# Given the number of null values is less than 3% for both defendersInTheBox and numberOfPassRushers, \n",
    "# along with the spread of each being small, calculate the mean and impute it for the missing data.\n",
    "plays_df[['numberOfPassRushers','defendersInTheBox']].fillna(round(plays_df[['numberOfPassRushers', 'defendersInTheBox']].mean()))"
   ]
  },
  {
   "cell_type": "code",
   "execution_count": 13,
   "metadata": {},
   "outputs": [],
   "source": [
    "# The rest of the coulmns with missing data will need to be dropped, imputing these values in any form could impact the accurracy of the data\n",
    "plays_df = plays_df.dropna()"
   ]
  },
  {
   "cell_type": "markdown",
   "metadata": {},
   "source": [
    "There are multiple null values in the 2 observations, drop these 2 occurrences.  Furthermore, "
   ]
  },
  {
   "cell_type": "code",
   "execution_count": 14,
   "metadata": {},
   "outputs": [
    {
     "data": {
      "text/html": [
       "<div>\n",
       "<style scoped>\n",
       "    .dataframe tbody tr th:only-of-type {\n",
       "        vertical-align: middle;\n",
       "    }\n",
       "\n",
       "    .dataframe tbody tr th {\n",
       "        vertical-align: top;\n",
       "    }\n",
       "\n",
       "    .dataframe thead th {\n",
       "        text-align: right;\n",
       "    }\n",
       "</style>\n",
       "<table border=\"1\" class=\"dataframe\">\n",
       "  <thead>\n",
       "    <tr style=\"text-align: right;\">\n",
       "      <th></th>\n",
       "      <th>gameId</th>\n",
       "      <th>playId</th>\n",
       "      <th>playDescription</th>\n",
       "      <th>quarter</th>\n",
       "      <th>down</th>\n",
       "      <th>yardsToGo</th>\n",
       "      <th>possessionTeam</th>\n",
       "      <th>playType</th>\n",
       "      <th>yardlineSide</th>\n",
       "      <th>yardlineNumber</th>\n",
       "      <th>...</th>\n",
       "      <th>personnelD</th>\n",
       "      <th>typeDropback</th>\n",
       "      <th>preSnapVisitorScore</th>\n",
       "      <th>preSnapHomeScore</th>\n",
       "      <th>gameClock</th>\n",
       "      <th>absoluteYardlineNumber</th>\n",
       "      <th>passResult</th>\n",
       "      <th>offensePlayResult</th>\n",
       "      <th>playResult</th>\n",
       "      <th>epa</th>\n",
       "    </tr>\n",
       "  </thead>\n",
       "  <tbody>\n",
       "    <tr>\n",
       "      <th>0</th>\n",
       "      <td>2018090600</td>\n",
       "      <td>75</td>\n",
       "      <td>(15:00) M.Ryan pass short right to J.Jones pus...</td>\n",
       "      <td>1</td>\n",
       "      <td>1</td>\n",
       "      <td>15</td>\n",
       "      <td>ATL</td>\n",
       "      <td>play_type_pass</td>\n",
       "      <td>ATL</td>\n",
       "      <td>20</td>\n",
       "      <td>...</td>\n",
       "      <td>4 DL, 2 LB, 5 DB</td>\n",
       "      <td>TRADITIONAL</td>\n",
       "      <td>0.0</td>\n",
       "      <td>0.0</td>\n",
       "      <td>15:00:00</td>\n",
       "      <td>90.0</td>\n",
       "      <td>C</td>\n",
       "      <td>10</td>\n",
       "      <td>10</td>\n",
       "      <td>0.261827</td>\n",
       "    </tr>\n",
       "    <tr>\n",
       "      <th>1</th>\n",
       "      <td>2018090600</td>\n",
       "      <td>146</td>\n",
       "      <td>(13:10) M.Ryan pass incomplete short right to ...</td>\n",
       "      <td>1</td>\n",
       "      <td>1</td>\n",
       "      <td>10</td>\n",
       "      <td>ATL</td>\n",
       "      <td>play_type_pass</td>\n",
       "      <td>PHI</td>\n",
       "      <td>39</td>\n",
       "      <td>...</td>\n",
       "      <td>4 DL, 2 LB, 5 DB</td>\n",
       "      <td>TRADITIONAL</td>\n",
       "      <td>0.0</td>\n",
       "      <td>0.0</td>\n",
       "      <td>13:10:00</td>\n",
       "      <td>49.0</td>\n",
       "      <td>I</td>\n",
       "      <td>0</td>\n",
       "      <td>0</td>\n",
       "      <td>-0.372360</td>\n",
       "    </tr>\n",
       "    <tr>\n",
       "      <th>2</th>\n",
       "      <td>2018090600</td>\n",
       "      <td>168</td>\n",
       "      <td>(13:05) (Shotgun) M.Ryan pass incomplete short...</td>\n",
       "      <td>1</td>\n",
       "      <td>2</td>\n",
       "      <td>10</td>\n",
       "      <td>ATL</td>\n",
       "      <td>play_type_pass</td>\n",
       "      <td>PHI</td>\n",
       "      <td>39</td>\n",
       "      <td>...</td>\n",
       "      <td>4 DL, 2 LB, 5 DB</td>\n",
       "      <td>TRADITIONAL</td>\n",
       "      <td>0.0</td>\n",
       "      <td>0.0</td>\n",
       "      <td>13:05:00</td>\n",
       "      <td>49.0</td>\n",
       "      <td>I</td>\n",
       "      <td>0</td>\n",
       "      <td>0</td>\n",
       "      <td>-0.702779</td>\n",
       "    </tr>\n",
       "  </tbody>\n",
       "</table>\n",
       "<p>3 rows × 24 columns</p>\n",
       "</div>"
      ],
      "text/plain": [
       "       gameId  playId                                    playDescription  \\\n",
       "0  2018090600      75  (15:00) M.Ryan pass short right to J.Jones pus...   \n",
       "1  2018090600     146  (13:10) M.Ryan pass incomplete short right to ...   \n",
       "2  2018090600     168  (13:05) (Shotgun) M.Ryan pass incomplete short...   \n",
       "\n",
       "   quarter  down  yardsToGo possessionTeam        playType yardlineSide  \\\n",
       "0        1     1         15            ATL  play_type_pass          ATL   \n",
       "1        1     1         10            ATL  play_type_pass          PHI   \n",
       "2        1     2         10            ATL  play_type_pass          PHI   \n",
       "\n",
       "   yardlineNumber  ...        personnelD typeDropback  preSnapVisitorScore  \\\n",
       "0              20  ...  4 DL, 2 LB, 5 DB  TRADITIONAL                  0.0   \n",
       "1              39  ...  4 DL, 2 LB, 5 DB  TRADITIONAL                  0.0   \n",
       "2              39  ...  4 DL, 2 LB, 5 DB  TRADITIONAL                  0.0   \n",
       "\n",
       "   preSnapHomeScore gameClock absoluteYardlineNumber  passResult  \\\n",
       "0               0.0  15:00:00                   90.0           C   \n",
       "1               0.0  13:10:00                   49.0           I   \n",
       "2               0.0  13:05:00                   49.0           I   \n",
       "\n",
       "   offensePlayResult playResult       epa  \n",
       "0                 10         10  0.261827  \n",
       "1                  0          0 -0.372360  \n",
       "2                  0          0 -0.702779  \n",
       "\n",
       "[3 rows x 24 columns]"
      ]
     },
     "execution_count": 14,
     "metadata": {},
     "output_type": "execute_result"
    }
   ],
   "source": [
    "# View first 3 entries of the plays dataframe\n",
    "plays_df.head(3)"
   ]
  },
  {
   "cell_type": "markdown",
   "metadata": {},
   "source": [
    "Information we are looking to gain from the plays dataframe relates to how successful a play was i.e. did it result in a first down (the current drive continuing) or points being scored by the offense.  Conversely, we can look at it from a defensive perspective, was the drive stopped (the offensive team was forced to punt the ball, a turnover and/or points scored by the defense).  "
   ]
  },
  {
   "cell_type": "code",
   "execution_count": 18,
   "metadata": {},
   "outputs": [
    {
     "data": {
      "image/png": "[encoded data removed]",
      "text/plain": [
       "<Figure size 432x288 with 1 Axes>"
      ]
     },
     "metadata": {
      "needs_background": "light"
     },
     "output_type": "display_data"
    }
   ],
   "source": [
    "#epa as defined from the NFL Big Data Bowl at Kaggle.com: Expected points added on the play, relative to the offensive team. \n",
    "#Expected points is a metric that estimates the average of every next scoring outcome given the play's down, \n",
    "#distance, yardline, and time remaining (numeric)\n",
    "# calculate the mean for each team and plot \n",
    "nflteam_avg_epa = plays_df.groupby(plays_df['possessionTeam'])['epa'].mean()\n",
    "nflteam_avg_epa.hist(bins=5)\n",
    "plt.title('Distribution of average epa per team')\n",
    "plt.xlabel('Mean epa for each NFL team')\n",
    "plt.ylabel('count');"
   ]
  },
  {
   "cell_type": "code",
   "execution_count": 16,
   "metadata": {},
   "outputs": [
    {
     "data": {
      "image/png": "[encoded data removed]",
      "text/plain": [
       "<Figure size 864x720 with 2 Axes>"
      ]
     },
     "metadata": {
      "needs_background": "light"
     },
     "output_type": "display_data"
    }
   ],
   "source": [
    "# Generate a heatmap from the cleaned data in order to determine what features to focus on for model building \n",
    "plt.subplots(figsize=(12,10))\n",
    "sns.heatmap(plays_df.corr());"
   ]
  },
  {
   "cell_type": "markdown",
   "metadata": {},
   "source": [
    "Based on the correlation from the heatmap, epa is very highly correlated with the playResult and offensePlayResult while being negatively correlated with down and yardsToGo.  Surprisngly defendersInTheBox and numberOfPassRushers had no impact on the epa, a further look at this will be needed.  From an intuitive perspective, these two categories should have a gretaer impact on the epa because the defensive formation should be vital to how successful an offensive play is."
   ]
  },
  {
   "cell_type": "code",
   "execution_count": null,
   "metadata": {},
   "outputs": [],
   "source": []
  }
 ],
 "metadata": {
  "kernelspec": {
   "display_name": "Python 3",
   "language": "python",
   "name": "python3"
  },
  "language_info": {
   "codemirror_mode": {
    "name": "ipython",
    "version": 3
   },
   "file_extension": ".py",
   "mimetype": "text/x-python",
   "name": "python",
   "nbconvert_exporter": "python",
   "pygments_lexer": "ipython3",
   "version": "3.8.3"
  }
 },
 "nbformat": 4,
 "nbformat_minor": 4
}
