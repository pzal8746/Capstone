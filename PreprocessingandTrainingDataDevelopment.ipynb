{
 "cells": [
  {
   "cell_type": "code",
   "execution_count": 9,
   "metadata": {},
   "outputs": [],
   "source": [
    "# Import libraries\n",
    "import pandas as pd\n",
    "import numpy as np\n",
    "import os\n",
    "import matplotlib.pyplot as plt\n",
    "import seaborn as sns\n",
    "from sklearn.decomposition import PCA\n",
    "from sklearn.preprocessing import scale\n",
    "from sklearn.model_selection import train_test_split\n",
    "import csv"
   ]
  },
  {
   "cell_type": "code",
   "execution_count": 2,
   "metadata": {},
   "outputs": [],
   "source": [
    "# Load the cleaned dataframes from the completed EDA notebook\n",
    "plays_df = pd.read_csv('C:\\\\Users\\\\phili\\\\Downloads\\\\Capstone\\\\plays_df_cleaned.csv')\n",
    "qb_df = pd.read_csv('C:\\\\Users\\\\phili\\\\Downloads\\\\Capstone\\\\qb_df_cleaned.csv')"
   ]
  },
  {
   "cell_type": "code",
   "execution_count": 3,
   "metadata": {},
   "outputs": [
    {
     "name": "stdout",
     "output_type": "stream",
     "text": [
      "<class 'pandas.core.frame.DataFrame'>\n",
      "RangeIndex: 18263 entries, 0 to 18262\n",
      "Data columns (total 24 columns):\n",
      " #   Column                  Non-Null Count  Dtype  \n",
      "---  ------                  --------------  -----  \n",
      " 0   gameId                  18263 non-null  int64  \n",
      " 1   playId                  18263 non-null  int64  \n",
      " 2   playDescription         18263 non-null  object \n",
      " 3   quarter                 18263 non-null  int64  \n",
      " 4   down                    18263 non-null  int64  \n",
      " 5   yardsToGo               18263 non-null  int64  \n",
      " 6   possessionTeam          18263 non-null  object \n",
      " 7   playType                18263 non-null  object \n",
      " 8   yardlineSide            18263 non-null  object \n",
      " 9   yardlineNumber          18263 non-null  int64  \n",
      " 10  offenseFormation        18263 non-null  object \n",
      " 11  personnelO              18263 non-null  object \n",
      " 12  defendersInTheBox       18263 non-null  float64\n",
      " 13  numberOfPassRushers     18263 non-null  float64\n",
      " 14  personnelD              18263 non-null  object \n",
      " 15  typeDropback            18263 non-null  object \n",
      " 16  preSnapVisitorScore     18263 non-null  float64\n",
      " 17  preSnapHomeScore        18263 non-null  float64\n",
      " 18  gameClock               18263 non-null  object \n",
      " 19  absoluteYardlineNumber  18263 non-null  float64\n",
      " 20  passResult              18263 non-null  object \n",
      " 21  offensePlayResult       18263 non-null  int64  \n",
      " 22  playResult              18263 non-null  int64  \n",
      " 23  epa                     18263 non-null  float64\n",
      "dtypes: float64(6), int64(8), object(10)\n",
      "memory usage: 3.3+ MB\n"
     ]
    }
   ],
   "source": [
    "plays_df.info()"
   ]
  },
  {
   "cell_type": "code",
   "execution_count": 4,
   "metadata": {},
   "outputs": [
    {
     "name": "stdout",
     "output_type": "stream",
     "text": [
      "<class 'pandas.core.frame.DataFrame'>\n",
      "RangeIndex: 71 entries, 0 to 70\n",
      "Data columns (total 7 columns):\n",
      " #   Column       Non-Null Count  Dtype \n",
      "---  ------       --------------  ----- \n",
      " 0   nflId        71 non-null     int64 \n",
      " 1   height       71 non-null     object\n",
      " 2   weight       71 non-null     int64 \n",
      " 3   birthDate    71 non-null     object\n",
      " 4   collegeName  71 non-null     object\n",
      " 5   position     71 non-null     object\n",
      " 6   displayName  71 non-null     object\n",
      "dtypes: int64(2), object(5)\n",
      "memory usage: 4.0+ KB\n"
     ]
    }
   ],
   "source": [
    "qb_df.info()"
   ]
  },
  {
   "cell_type": "code",
   "execution_count": 5,
   "metadata": {},
   "outputs": [],
   "source": [
    "# epa will be the target variable\n",
    "y = plays_df['epa'].values\n",
    "X = pd.get_dummies(plays_df.drop(['epa'], axis= 1))"
   ]
  },
  {
   "cell_type": "code",
   "execution_count": 6,
   "metadata": {},
   "outputs": [],
   "source": [
    "# create train test split for the model evaluation\n",
    "X_train, X_test, y_train, y_test = train_test_split(X, y, test_size=.2, random_state=1)"
   ]
  },
  {
   "cell_type": "code",
   "execution_count": 10,
   "metadata": {},
   "outputs": [],
   "source": [
    "# scale data, apply to training set, then finally to test set\n",
    "scaler = preprocessing.StandardScaler().fit(X_train)\n",
    "X_train_scaled=scaler.transform(X_train)\n",
    "X_test_scaled=scaler.transform(X_test)"
   ]
  }
 ],
 "metadata": {
  "kernelspec": {
   "display_name": "Python 3",
   "language": "python",
   "name": "python3"
  },
  "language_info": {
   "codemirror_mode": {
    "name": "ipython",
    "version": 3
   },
   "file_extension": ".py",
   "mimetype": "text/x-python",
   "name": "python",
   "nbconvert_exporter": "python",
   "pygments_lexer": "ipython3",
   "version": "3.8.3"
  }
 },
 "nbformat": 4,
 "nbformat_minor": 4
}
